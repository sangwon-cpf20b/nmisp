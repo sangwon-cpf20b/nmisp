{
  "cells": [
    {
      "cell_type": "markdown",
      "metadata": {
        "id": "view-in-github",
        "colab_type": "text"
      },
      "source": [
        "<a href=\"https://colab.research.google.com/github/sangwon-cpf20b/nmisp/blob/main/10_root_finding/30_newton_raphson.ipynb\" target=\"_parent\"><img src=\"https://colab.research.google.com/assets/colab-badge.svg\" alt=\"Open In Colab\"/></a>"
      ]
    },
    {
      "cell_type": "code",
      "execution_count": 1,
      "metadata": {
        "colab": {
          "base_uri": "https://localhost:8080/"
        },
        "id": "aqDorx9IxoxM",
        "outputId": "d9067186-db27-4202-93b8-c69d4b413800"
      },
      "outputs": [
        {
          "output_type": "stream",
          "name": "stdout",
          "text": [
            "Drive already mounted at /content/drive/; to attempt to forcibly remount, call drive.mount(\"/content/drive/\", force_remount=True).\n"
          ]
        }
      ],
      "source": [
        "# This cell is for the Google Colaboratory\n",
        "# https://stackoverflow.com/a/63519730\n",
        "if 'google.colab' in str(get_ipython()):\n",
        "  # https://colab.research.google.com/notebooks/io.ipynb\n",
        "  import google.colab.drive as gcdrive\n",
        "  # may need to visit a link for the Google Colab authorization code\n",
        "  gcdrive.mount(\"/content/drive/\")\n",
        "  import sys\n",
        "  sys.path.insert(0,\"/content/drive/My Drive/Colab Notebooks/nmisp/10_root_finding\")\n"
      ]
    },
    {
      "cell_type": "code",
      "execution_count": 2,
      "metadata": {
        "id": "FYu9SOzbxoxT"
      },
      "outputs": [],
      "source": [
        "# 그래프, 수학 기능 추가\n",
        "# Add graph and math features\n",
        "import pylab as py\n",
        "\n"
      ]
    },
    {
      "cell_type": "markdown",
      "metadata": {
        "id": "Vx_LT8XaxoxU"
      },
      "source": [
        "# 뉴튼 랩슨법<br>Newton Rapson Method\n",
        "\n"
      ]
    },
    {
      "cell_type": "markdown",
      "metadata": {
        "id": "yS9WuwEExoxW"
      },
      "source": [
        "10의 제곱근을 구하기 위해 사용했던 함수를 생각해 보자.<br>Let's think about the function that we used to find the square root of 10.\n",
        "\n"
      ]
    },
    {
      "cell_type": "markdown",
      "metadata": {
        "id": "dJ_L6JzfxoxX"
      },
      "source": [
        "$$\n",
        "f(x)=x^2-10\n",
        "$$\n",
        "\n"
      ]
    },
    {
      "cell_type": "code",
      "execution_count": 3,
      "metadata": {
        "id": "08Be0uBcxoxY"
      },
      "outputs": [],
      "source": [
        "# 이 함수를 0으로 만드는 x 를 찾고자 함\n",
        "# Intend to find x making the function below zero\n",
        "def f(x):\n",
        "    return x ** 2 - 10\n",
        "\n"
      ]
    },
    {
      "cell_type": "markdown",
      "metadata": {
        "id": "6NgChR8jxoxZ"
      },
      "source": [
        "이 함수는 연속이고 미분 가능하다.<br>This function is continuous and differentiable.\n",
        "\n"
      ]
    },
    {
      "cell_type": "markdown",
      "metadata": {
        "id": "gJ8WU0XUxoxa"
      },
      "source": [
        "$$\n",
        "\\frac{d}{dx}f\\left(x\\right)=2x\n",
        "$$\n",
        "\n"
      ]
    },
    {
      "cell_type": "code",
      "execution_count": 4,
      "metadata": {
        "id": "jdZ_778qxoxb"
      },
      "outputs": [],
      "source": [
        "# 위 함수의 x에 대한 미분\n",
        "# x-Derivative of the function above\n",
        "def df_dx(x):\n",
        "    return 2 * x\n",
        "\n"
      ]
    },
    {
      "cell_type": "markdown",
      "metadata": {
        "id": "cqiafUonxoxc"
      },
      "source": [
        "그림의 매개변수는 다음과 같이 정하자.<br>\n",
        "Let's assume plot parameters as follows.\n",
        "\n"
      ]
    },
    {
      "cell_type": "code",
      "execution_count": 5,
      "metadata": {
        "id": "WpDPUwTRxoxd"
      },
      "outputs": [],
      "source": [
        "# x 의 범위와 간격을 지정 \n",
        "# Specify range and interval of x\n",
        "x_start = -1\n",
        "x_end = 5\n",
        "x_interval = 0.5\n",
        "\n"
      ]
    },
    {
      "cell_type": "markdown",
      "metadata": {
        "id": "JQt2tryoxoxd"
      },
      "source": [
        "함수와 기울기를 한번 표시해 보자.<br>Let's visualize the function and the slope.\n",
        "\n"
      ]
    },
    {
      "cell_type": "code",
      "execution_count": 6,
      "metadata": {
        "scrolled": false,
        "colab": {
          "base_uri": "https://localhost:8080/",
          "height": 606
        },
        "id": "YautESTjxoxe",
        "outputId": "5c889970-761f-49d7-ab25-d8d60f56fd1f"
      },
      "outputs": [
        {
          "output_type": "display_data",
          "data": {
            "text/plain": [
              "<Figure size 360x720 with 2 Axes>"
            ],
            "image/png": "[encoded data removed]"
          },
          "metadata": {
            "needs_background": "light"
          }
        }
      ],
      "source": [
        "# 그림 관련 확장 기능 준비\n",
        "# Prepare extension module for plot\n",
        "import plot_root_finding\n",
        "\n",
        "# 그림의 크기를 지정\n",
        "# Specifiy size of the plot\n",
        "py.figure(figsize=(5, 10))\n",
        "\n",
        "py.subplot(2, 1, 1)\n",
        "# 위 명령으로 2행 1열로 그래프를 준비하고 이후의 명령은 첫번째 그래프에 적용\n",
        "# The command above prepares for sub-plots of two rows and one column and apply following commands to the first graph\n",
        "x_array = plot_root_finding.plot(f, x_start, x_end, x_interval)\n",
        "\n",
        "py.subplot(2, 1, 2)\n",
        "# 이번에는 2행 1열로 그래프 가운데 두번째 그래프에 이후의 명령을 적용\n",
        "# This time, apply following commands to the second sub-plot of two rows and one column\n",
        "plot_root_finding.plot_derivative(df_dx, x_array)\n",
        "py.xlabel('x')\n",
        "py.ylabel(r'$\\frac{df}{dx}$')\n",
        "py.grid(True)\n",
        "\n"
      ]
    },
    {
      "cell_type": "markdown",
      "metadata": {
        "id": "RjH6mxP-xoxe"
      },
      "source": [
        "이를 이용하여, 원하는 위치 $\\left(x_i, f(x_i)\\right)$ 에서의 접선을 그릴 수 있다.<br>Using this, we can plot tangents at desirable locations of $\\left(x_i, f(x_i)\\right)$.\n",
        "\n"
      ]
    },
    {
      "cell_type": "markdown",
      "metadata": {
        "id": "GVnQQMk5xoxf"
      },
      "source": [
        "$$\n",
        "y_{tangent}=\\left[\\frac{d}{dx}f\\left(x_i\\right)\\right] \\left(x-x_i \\right) + f\\left(x_i\\right)\n",
        "$$\n",
        "\n"
      ]
    },
    {
      "cell_type": "markdown",
      "metadata": {
        "id": "cQKtJ0PXxoxf"
      },
      "source": [
        "위 그림 각 점에서의 접선을 그려 보자.<br>Let's visualize the tangent at each point of the plot above.\n",
        "\n"
      ]
    },
    {
      "cell_type": "code",
      "execution_count": 7,
      "metadata": {
        "colab": {
          "base_uri": "https://localhost:8080/",
          "height": 279
        },
        "id": "Fw-DbwUaxoxg",
        "outputId": "ee8fb995-4740-46ba-fdd4-c2d1c5fc224e"
      },
      "outputs": [
        {
          "output_type": "display_data",
          "data": {
            "text/plain": [
              "<Figure size 432x288 with 1 Axes>"
            ],
            "image/png": "[encoded data removed]"
          },
          "metadata": {
            "needs_background": "light"
          }
        }
      ],
      "source": [
        "x = plot_root_finding.plot(f, x_start, x_end, x_interval)\n",
        "\n",
        "plot_root_finding.plot_many_tangents(f, df_dx, x)\n",
        "\n"
      ]
    },
    {
      "cell_type": "markdown",
      "metadata": {
        "id": "JchMpKnCxoxg"
      },
      "source": [
        "기울기가 0이 아니라면, 접선은 $x$축과 만날 것이다. 그 교점의 $x$ 좌표를 $x_j$라 하자.<br>If the slope is not zero, the tangent would intersect with $x$ axis. Let $x_j$ be the $x$ coordinate of the intersection.\n",
        "\n"
      ]
    },
    {
      "cell_type": "markdown",
      "metadata": {
        "id": "v_Sx9vq8xoxg"
      },
      "source": [
        "$$\n",
        "\\begin{align}\n",
        "\\left[\\frac{d}{dx}f\\left(x_i\\right)\\right] \\left(x_j-x_i \\right) + f\\left(x_i\\right)=0 \\\\\n",
        "\\left[\\frac{d}{dx}f\\left(x_i\\right)\\right] \\left(x_j-x_i \\right)=-f\\left(x_i\\right) \\\\\n",
        "\\left(x_j-x_i \\right)=-\\frac{f\\left(x_i\\right)}{\\left[\\frac{d}{dx}f\\left(x_i\\right)\\right]} \\\\\n",
        "x_j=x_i-\\frac{f\\left(x_i\\right)}{\\left[\\frac{d}{dx}f\\left(x_i\\right)\\right]} \\\\\n",
        "\\end{align}\n",
        "$$\n",
        "\n"
      ]
    },
    {
      "cell_type": "markdown",
      "metadata": {
        "id": "7cuUrx4Hxoxh"
      },
      "source": [
        "기울기가 0이라면?<br>What if the slope is zero?\n",
        "\n"
      ]
    },
    {
      "cell_type": "markdown",
      "metadata": {
        "id": "ekXWt8fhxoxh"
      },
      "source": [
        "$x_i=5$ 지점에서의 접선을 그려 보자.<br>Let's plot tanget at $x_i=5$.\n",
        "\n"
      ]
    },
    {
      "cell_type": "code",
      "execution_count": 8,
      "metadata": {
        "colab": {
          "base_uri": "https://localhost:8080/",
          "height": 279
        },
        "id": "DoIXdNVjxoxi",
        "outputId": "c5d46504-0c72-47b7-e7bb-a7c75eb21cb3"
      },
      "outputs": [
        {
          "output_type": "display_data",
          "data": {
            "text/plain": [
              "<Figure size 432x288 with 1 Axes>"
            ],
            "image/png": "[encoded data removed]"
          },
          "metadata": {
            "needs_background": "light"
          }
        }
      ],
      "source": [
        "x = plot_root_finding.plot(f, x_start, x_end, x_interval)\n",
        "x_i = 5\n",
        "plot_root_finding.plot_one_tangent(f, df_dx, x_i, 0.8)\n",
        "\n"
      ]
    },
    {
      "cell_type": "markdown",
      "metadata": {
        "id": "YE32obGVxoxi"
      },
      "source": [
        "$x_j$를 한번 계산해 보자.<br>Let's calculate $x_j$, too.\n",
        "\n"
      ]
    },
    {
      "cell_type": "code",
      "execution_count": 9,
      "metadata": {
        "id": "7ORrptN8xoxi"
      },
      "outputs": [],
      "source": [
        "x_j = x_i - f(x_i) / (2 * x_i)\n",
        "\n"
      ]
    },
    {
      "cell_type": "code",
      "execution_count": 10,
      "metadata": {
        "scrolled": true,
        "colab": {
          "base_uri": "https://localhost:8080/"
        },
        "id": "QmJOcyu3xoxj",
        "outputId": "bc089570-975a-45b6-d8be-87822c90a3cb"
      },
      "outputs": [
        {
          "output_type": "execute_result",
          "data": {
            "text/plain": [
              "3.5"
            ]
          },
          "metadata": {},
          "execution_count": 10
        }
      ],
      "source": [
        "x_j\n",
        "\n"
      ]
    },
    {
      "cell_type": "markdown",
      "metadata": {
        "id": "o-2nv2DCxoxj"
      },
      "source": [
        "여기 $x=x_j$ 에서의 $f(x)$의 값인 $\\left. f(x) \\right|_{x=x_j}$ 를 계산해 보자.<br>Let's calculate $\\left. f(x) \\right|_{x=x_j}$, $f(x)$ at $x=x_j$ here.\n",
        "\n"
      ]
    },
    {
      "cell_type": "code",
      "execution_count": 11,
      "metadata": {
        "colab": {
          "base_uri": "https://localhost:8080/"
        },
        "id": "rT5JVXiXxoxj",
        "outputId": "80e52e79-46eb-4be8-ae22-468bbb89124e"
      },
      "outputs": [
        {
          "output_type": "execute_result",
          "data": {
            "text/plain": [
              "2.25"
            ]
          },
          "metadata": {},
          "execution_count": 11
        }
      ],
      "source": [
        "f(x_j)\n",
        "\n"
      ]
    },
    {
      "cell_type": "markdown",
      "metadata": {
        "id": "4d41IfGxxoxj"
      },
      "source": [
        "$x_j$ 값은 10의 제곱근에 $x_i$ 보다 가까와졌다.<br> $x_j$ is closer to $\\sqrt{10}$ than $x_i$.\n",
        "\n"
      ]
    },
    {
      "cell_type": "markdown",
      "metadata": {
        "id": "c6HIgwZZxoxj"
      },
      "source": [
        "$x_i$값을 $x_j$ 값으로 덮어쓰고 한번 더 반복해 보자.<br>Let's iterate once more with $x_j$ as new $x_i$.\n",
        "\n"
      ]
    },
    {
      "cell_type": "code",
      "execution_count": 12,
      "metadata": {
        "id": "ulCGV-pVxoxk"
      },
      "outputs": [],
      "source": [
        "previous_x_i = x_i\n",
        "x_i = x_j\n",
        "\n"
      ]
    },
    {
      "cell_type": "markdown",
      "metadata": {
        "id": "BrKw3upQxoxk"
      },
      "source": [
        "$x_i$ 에서의 접선을 그려 보자.<br>Let's plot tanget at $x_i$.\n",
        "\n"
      ]
    },
    {
      "cell_type": "code",
      "execution_count": 13,
      "metadata": {
        "colab": {
          "base_uri": "https://localhost:8080/",
          "height": 279
        },
        "id": "mzUE2IDMxoxk",
        "outputId": "33cc2c91-92d5-4194-b892-a1c339fd5323"
      },
      "outputs": [
        {
          "output_type": "display_data",
          "data": {
            "text/plain": [
              "<Figure size 432x288 with 1 Axes>"
            ],
            "image/png": "[encoded data removed]"
          },
          "metadata": {
            "needs_background": "light"
          }
        }
      ],
      "source": [
        "x = plot_root_finding.plot(f, x_start, x_end, x_interval)\n",
        "plot_root_finding.plot_one_tangent(f, df_dx, previous_x_i, 0.8)\n",
        "plot_root_finding.plot_one_tangent(f, df_dx, x_i, 0.8)\n",
        "\n"
      ]
    },
    {
      "cell_type": "code",
      "execution_count": 14,
      "metadata": {
        "id": "QrG0JLJXxoxk"
      },
      "outputs": [],
      "source": [
        "x_j = x_i - f(x_i) / (2 * x_i)\n",
        "\n"
      ]
    },
    {
      "cell_type": "markdown",
      "metadata": {
        "id": "dSD4FDJ6xoxk"
      },
      "source": [
        "새로운 $x_j$ :<br>New $x_j$ :\n",
        "\n"
      ]
    },
    {
      "cell_type": "code",
      "execution_count": 15,
      "metadata": {
        "colab": {
          "base_uri": "https://localhost:8080/"
        },
        "id": "Xt6bXeklxoxl",
        "outputId": "13007ab6-1860-48dd-af90-03e9d34aad84"
      },
      "outputs": [
        {
          "output_type": "execute_result",
          "data": {
            "text/plain": [
              "3.1785714285714284"
            ]
          },
          "metadata": {},
          "execution_count": 15
        }
      ],
      "source": [
        "x_j\n",
        "\n"
      ]
    },
    {
      "cell_type": "markdown",
      "metadata": {
        "id": "WoYmDjwixoxl"
      },
      "source": [
        "새로운 $\\left. f(x) \\right|_{x=x_j}$ :<br>New $\\left. f(x) \\right|_{x=x_j}$ :\n",
        "\n"
      ]
    },
    {
      "cell_type": "code",
      "execution_count": 16,
      "metadata": {
        "colab": {
          "base_uri": "https://localhost:8080/"
        },
        "id": "CuIgWUa_xoxl",
        "outputId": "0125e2a7-bc59-4cda-f018-29de16db153e"
      },
      "outputs": [
        {
          "output_type": "execute_result",
          "data": {
            "text/plain": [
              "0.10331632653061185"
            ]
          },
          "metadata": {},
          "execution_count": 16
        }
      ],
      "source": [
        "f(x_j)\n",
        "\n"
      ]
    },
    {
      "cell_type": "markdown",
      "metadata": {
        "id": "_lkygy_yxoxl"
      },
      "source": [
        "새로운 $x_j$ 값은 10의 제곱근에 더 가까와졌다.<br>New $x_j$ is even closer to the square root of 10.\n",
        "\n"
      ]
    },
    {
      "cell_type": "markdown",
      "metadata": {
        "id": "5wczDxwwxoxm"
      },
      "source": [
        "## 뉴튼 랩슨법 구현<br>Implementing Newton Raphson Method\n",
        "\n"
      ]
    },
    {
      "cell_type": "markdown",
      "metadata": {
        "id": "vKmpXl2Txoxm"
      },
      "source": [
        "매개변수는 다음과 같이 정하자.<br>\n",
        "Let's set the parameter as follows.\n",
        "\n"
      ]
    },
    {
      "cell_type": "code",
      "execution_count": 17,
      "metadata": {
        "id": "jeLN5epNxoxm"
      },
      "outputs": [],
      "source": [
        "epsilon = 1e-3\n",
        "\n"
      ]
    },
    {
      "cell_type": "markdown",
      "metadata": {
        "id": "MmgLehiFxoxm"
      },
      "source": [
        "$x$ 의 초기값을 지정하자.<br>\n",
        "Let's specify the initial value of x as follows.\n",
        "\n"
      ]
    },
    {
      "cell_type": "code",
      "execution_count": 18,
      "metadata": {
        "id": "dc_w1Eqvxoxm"
      },
      "outputs": [],
      "source": [
        "x_initial = 5.0\n",
        "\n"
      ]
    },
    {
      "cell_type": "markdown",
      "metadata": {
        "id": "KYXnGHKSxoxm"
      },
      "source": [
        "이 $f(x)$ 값을 0으로 만드는 $x$의 값을 찾고자 하는 것이다.<br>\n",
        "We want to find the value of $x$ making following $f(x)$ zero.\n",
        "\n"
      ]
    },
    {
      "cell_type": "code",
      "execution_count": 19,
      "metadata": {
        "id": "JCLtSUp8xoxn"
      },
      "outputs": [],
      "source": [
        "def f(x):\n",
        "    return x ** 2 - 10\n",
        "\n"
      ]
    },
    {
      "cell_type": "markdown",
      "metadata": {
        "id": "cPQjV5TVxoxn"
      },
      "source": [
        "다시한번, 위 함수를 한번 $x$에 대해 미분하면 다음과 같다.<br>\n",
        "Again, the first derivative of the function above is as follows.\n",
        "\n"
      ]
    },
    {
      "cell_type": "code",
      "execution_count": 20,
      "metadata": {
        "id": "Kp79kdymxoxn"
      },
      "outputs": [],
      "source": [
        "def df_dx(x):\n",
        "    return 2 * x\n",
        "\n"
      ]
    },
    {
      "cell_type": "markdown",
      "metadata": {
        "id": "iUTWzbdaxoxn"
      },
      "source": [
        "위 반복 계산을 함수로 구현하면 다음과 같다.<br>\n",
        "Following is an implementation of the iteration steps above.\n",
        "\n"
      ]
    },
    {
      "cell_type": "code",
      "execution_count": 21,
      "metadata": {
        "id": "F6vGvh13xoxn"
      },
      "outputs": [],
      "source": [
        "def newton_raphson(f, df_dx, x_initial, epsilon):\n",
        "    \"\"\"\n",
        "    뉴튼 랩슨 법\n",
        "    Newton Raphson Method\n",
        "    \n",
        "    f : f(x) = 0 을 만족하는 x 를 찾고자 하는 함수 Function that we want to find x satisfying f(x) = 0\n",
        "    df_dx : f(x) 함수의 x 에 대한 미분 x-derivative of the function above\n",
        "    x_initial : x의 초기값 Initial value of x\n",
        "    epsilon : 희망하는 근의 정밀도 Desirable precision of the root\n",
        "    \"\"\"\n",
        "    counter = 0\n",
        "    \n",
        "    # 변수 x_i 를 초기화\n",
        "    # Initialize variable x_i\n",
        "    x_i = x_initial\n",
        "\n",
        "    # f(x_i) 의 절대값이 epsilon 보다 더 크다면 계속 반복\n",
        "    # Iterate while the absolute value of f(x) is larger than epsilon\n",
        "    while abs(f(x_i)) > epsilon:\n",
        "        # x_i 지점에서의 접선의 기울기\n",
        "        # Slope of the tangent at x_i\n",
        "        slope = df_dx(x_i)\n",
        "        \n",
        "        assert abs(slope) > epsilon\n",
        "\n",
        "        # 접선과 x축의 교점\n",
        "        # Intersection of the tangent and the x axis\n",
        "        x_i += - f(x_i) / slope\n",
        "\n",
        "        counter += 1\n",
        "    \n",
        "    print('counter =', counter)\n",
        "        \n",
        "    return x_i\n",
        "\n"
      ]
    },
    {
      "cell_type": "markdown",
      "metadata": {
        "id": "mwcppGqoxoxo"
      },
      "source": [
        "10의 제곱근을 찾아보자. 계산 시간도 측정해 보자.<br>\n",
        "Let's find the square root of 10 while measuring the computation time.\n",
        "\n"
      ]
    },
    {
      "cell_type": "code",
      "execution_count": 22,
      "metadata": {
        "colab": {
          "base_uri": "https://localhost:8080/"
        },
        "id": "0LPI4kCvxoxo",
        "outputId": "150c6856-d864-462a-80d1-362cf2fbce8d"
      },
      "outputs": [
        {
          "output_type": "stream",
          "name": "stdout",
          "text": [
            "counter = 3\n",
            "CPU times: user 2.22 ms, sys: 19 µs, total: 2.24 ms\n",
            "Wall time: 1.91 ms\n"
          ]
        }
      ],
      "source": [
        "%time sqrt_10 = newton_raphson(f, df_dx, x_initial, epsilon)\n",
        "\n"
      ]
    },
    {
      "cell_type": "markdown",
      "metadata": {
        "id": "miBZTkRlxoxo"
      },
      "source": [
        "뉴튼 랩슨법으로 찾은 10의 제곱근<br>\n",
        "Square root of 10 that we just found using the Newton Raphson method :\n",
        "\n"
      ]
    },
    {
      "cell_type": "code",
      "execution_count": 23,
      "metadata": {
        "colab": {
          "base_uri": "https://localhost:8080/"
        },
        "id": "CghqZiEwxoxo",
        "outputId": "01d54a77-de10-4111-8902-bf8a144e9e5e"
      },
      "outputs": [
        {
          "output_type": "stream",
          "name": "stdout",
          "text": [
            "sqrt_10 = 3.162319422150883\n"
          ]
        }
      ],
      "source": [
        "print('sqrt_10 =', sqrt_10)\n",
        "\n"
      ]
    },
    {
      "cell_type": "markdown",
      "metadata": {
        "id": "GN75iX4Rxoxo"
      },
      "source": [
        "아래 연산의 결과는 0인가?<br>\n",
        "Is the result of the following calculation zero?\n",
        "\n"
      ]
    },
    {
      "cell_type": "code",
      "execution_count": 24,
      "metadata": {
        "colab": {
          "base_uri": "https://localhost:8080/"
        },
        "id": "d2llteMPxoxo",
        "outputId": "5d0fdd75-37d6-4d15-dc1f-b313b0569ba9"
      },
      "outputs": [
        {
          "output_type": "stream",
          "name": "stdout",
          "text": [
            "sqrt_10 ** 2 - 10 = 0.00026412771269335167\n"
          ]
        }
      ],
      "source": [
        "print('sqrt_10 ** 2 - 10 =', sqrt_10 ** 2 - 10)\n",
        "\n"
      ]
    },
    {
      "cell_type": "markdown",
      "metadata": {
        "id": "-BTvvod5xoxp"
      },
      "source": [
        "## 연습 문제<br>Exercises\n",
        "\n"
      ]
    },
    {
      "cell_type": "markdown",
      "metadata": {
        "id": "0TZksBYfxoxp"
      },
      "source": [
        "도전과제 1 : $sin^2(\\theta^{\\circ})+\\frac{1}{90}\\pi\\theta^{\\circ}=0.5$ 를 풀기 위한 python 함수 `f1(theta_deg)` 를 구현하고 적당한 $\\theta^{\\circ}$ 구간에 그 그래프를 그려보시오.<br>\n",
        "Try this 1 : Implement a python function `f1(theta_deg)` to solve $sin^2(\\theta^{\\circ})+\\frac{1}{90}\\pi\\theta^{\\circ}=0.5$ and plot it over an appropriate interval of $\\theta^{\\circ}$.\n",
        "\n"
      ]
    },
    {
      "cell_type": "markdown",
      "metadata": {
        "id": "73rAVOfrxoxp"
      },
      "source": [
        "도전과제 2 : 위 `f1(theta_deg)` 함수의 $\\theta$에 대한 미분을 python 함수 `df1(theta_deg)` 로 구현하고 그 그래프를 그려 보시오. 위 `f1(theta_deg)` 함수의 기울기가 0인 점에서 `df1(theta_deg)` 함수값이 0인지 확인하시오.<br>\n",
        "Try this 2 : Implement another python function `df1(theta_deg)` that is a derivative of the function `f1(theta_deg)` over $\\theta$ and plot it. Verify whether the value of `df1(theta_deg)` is zero if the slope of the `f1(theta_deg)` is zero.\n",
        "\n"
      ]
    },
    {
      "cell_type": "markdown",
      "metadata": {
        "id": "Lxy0CSsLxoxq"
      },
      "source": [
        "도전 과제 3 : $sin^2(\\theta^{\\circ})+\\frac{1}{90}\\pi\\theta^{\\circ}=0.5$ 인 $\\theta^{\\circ}$를 뉴튼 랩슨법으로 구해 보시오.<br>\n",
        "Try this 3 : Find $\\theta^{\\circ}$ satisfying $sin^2(\\theta^{\\circ})+\\frac{1}{90}\\pi\\theta^{\\circ}=0.5$ using the Newton's method.\n",
        "\n"
      ]
    },
    {
      "cell_type": "markdown",
      "metadata": {
        "id": "J5cr-JMkxoxq"
      },
      "source": [
        "도전 과제 4 : 초기 $\\theta$ 값을 정할 때 주의해야 하는 까닭은?<br>\n",
        "Try this 4 : Why do we have to be careful when choosing initial $\\theta$?\n",
        "\n"
      ]
    },
    {
      "cell_type": "markdown",
      "metadata": {
        "id": "HVh8W2Nrxoxq"
      },
      "source": [
        "도전 과제 5: 관심 있는 $f(x)=0$ 문제를 정하여 뉴튼-랩슨법으로 근을 구해 보시오.<br>\n",
        "Try this 5: Find a root of a $f(x)=0$ problem of your choice using the Newton-Raphson method.\n",
        "\n"
      ]
    },
    {
      "cell_type": "markdown",
      "metadata": {
        "id": "-tkYmjI5xoxq"
      },
      "source": [
        "## 사이파이 구현<br>Implementation in SciPy\n",
        "\n"
      ]
    },
    {
      "cell_type": "markdown",
      "metadata": {
        "id": "WPUmncgvxoxq"
      },
      "source": [
        "사이파이 모듈에도 [`newton`](https://docs.scipy.org/doc/scipy/reference/generated/scipy.optimize.newton.html) 함수가 있다.<br>\n",
        "The SciPy module also has the [`newton`](https://docs.scipy.org/doc/scipy/reference/generated/scipy.optimize.newton.html) function.\n",
        "\n"
      ]
    },
    {
      "cell_type": "code",
      "execution_count": 25,
      "metadata": {
        "id": "sHkj3qTTxoxr"
      },
      "outputs": [],
      "source": [
        "import scipy.optimize as so\n",
        "\n"
      ]
    },
    {
      "cell_type": "code",
      "execution_count": 26,
      "metadata": {
        "colab": {
          "base_uri": "https://localhost:8080/"
        },
        "id": "GLg9IsVaxoxr",
        "outputId": "577e793f-512d-4afe-d64a-4bd0fda9ace2"
      },
      "outputs": [
        {
          "output_type": "stream",
          "name": "stdout",
          "text": [
            "CPU times: user 0 ns, sys: 657 µs, total: 657 µs\n",
            "Wall time: 690 µs\n"
          ]
        }
      ],
      "source": [
        "%time sqrt_10_scipy = so.newton(f, x_initial, fprime=df_dx, tol=epsilon)\n",
        "\n"
      ]
    },
    {
      "cell_type": "code",
      "execution_count": 27,
      "metadata": {
        "colab": {
          "base_uri": "https://localhost:8080/"
        },
        "id": "xDThRbUVxoxr",
        "outputId": "5574e1e0-16ba-422f-8ee5-bfaff4092dcf"
      },
      "outputs": [
        {
          "output_type": "execute_result",
          "data": {
            "text/plain": [
              "3.1622776604441363"
            ]
          },
          "metadata": {},
          "execution_count": 27
        }
      ],
      "source": [
        "sqrt_10_scipy\n",
        "\n"
      ]
    },
    {
      "cell_type": "markdown",
      "metadata": {
        "id": "7kE7ClRGxoxr"
      },
      "source": [
        "앞에서 구한 값과 비교해 보자.<br>Let's compare with the previous value.\n",
        "\n"
      ]
    },
    {
      "cell_type": "code",
      "execution_count": 28,
      "metadata": {
        "colab": {
          "base_uri": "https://localhost:8080/"
        },
        "id": "Hy0OYjvAxoxs",
        "outputId": "450ca4eb-d233-4590-daee-9de30dd5c3d7"
      },
      "outputs": [
        {
          "output_type": "execute_result",
          "data": {
            "text/plain": [
              "3.162319422150883"
            ]
          },
          "metadata": {},
          "execution_count": 28
        }
      ],
      "source": [
        "sqrt_10\n",
        "\n"
      ]
    },
    {
      "cell_type": "markdown",
      "metadata": {
        "id": "7yrUHcc3xoxs"
      },
      "source": [
        "결과 확인<br>Check result\n",
        "\n"
      ]
    },
    {
      "cell_type": "code",
      "execution_count": 29,
      "metadata": {
        "id": "NH2--Db4xoxs"
      },
      "outputs": [],
      "source": [
        "import math\n",
        "assert math.isclose((sqrt_10_scipy ** 2), 10.0, abs_tol=epsilon), (sqrt_10_scipy ** 2)\n",
        "\n"
      ]
    },
    {
      "cell_type": "markdown",
      "metadata": {
        "id": "xrm8eykOxoxs"
      },
      "source": [
        "## Final Bell<br>마지막 종\n",
        "\n"
      ]
    },
    {
      "cell_type": "code",
      "execution_count": 30,
      "metadata": {
        "id": "Az_0uruWxoxs"
      },
      "outputs": [],
      "source": [
        "# stackoverfow.com/a/24634221\n",
        "import os\n",
        "os.system(\"printf '\\a'\");\n",
        "\n"
      ]
    },
    {
      "cell_type": "code",
      "execution_count": 30,
      "metadata": {
        "id": "EGZ7OEe9xoxt"
      },
      "outputs": [],
      "source": [
        ""
      ]
    }
  ],
  "metadata": {
    "kernelspec": {
      "display_name": "Python 3",
      "language": "python",
      "name": "python3"
    },
    "language_info": {
      "codemirror_mode": {
        "name": "ipython",
        "version": 3
      },
      "file_extension": ".py",
      "mimetype": "text/x-python",
      "name": "python",
      "nbconvert_exporter": "python",
      "pygments_lexer": "ipython3",
      "version": "3.7.3"
    },
    "colab": {
      "name": "30_newton_raphson.ipynb",
      "provenance": [],
      "include_colab_link": true
    }
  },
  "nbformat": 4,
  "nbformat_minor": 0
}